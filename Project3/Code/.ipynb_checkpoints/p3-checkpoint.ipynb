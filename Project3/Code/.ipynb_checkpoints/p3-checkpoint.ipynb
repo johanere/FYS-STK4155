{
 "cells": [
  {
   "cell_type": "markdown",
   "metadata": {},
   "source": [
    "Import modules"
   ]
  },
  {
   "cell_type": "code",
   "execution_count": 1,
   "metadata": {},
   "outputs": [],
   "source": [
    "import pandas as pd\n",
    "import sklearn.preprocessing as sklpre\n",
    "import sklearn.model_selection as sklms\n",
    "import matplotlib.pyplot as plt\n",
    "import numpy as np\n"
   ]
  },
  {
   "cell_type": "markdown",
   "metadata": {},
   "source": [
    "Import data, and make initial plots"
   ]
  },
  {
   "cell_type": "code",
   "execution_count": 2,
   "metadata": {},
   "outputs": [],
   "source": [
    "# load data\n",
    "\n",
    "np.random.seed(3) \n",
    "\n",
    "\n",
    "df = pd.read_csv(\"winequality-white.csv\", sep=\";\")\n",
    "X = df.drop(\"quality\", axis=1)\n",
    "y = df[\"quality\"]\n",
    "\n",
    "# stratified split\n",
    "X_train, X_test, y_train, y_test = sklms.train_test_split(\n",
    "    X, y, stratify=y, test_size=0.33\n",
    ")\n"
   ]
  },
  {
   "cell_type": "markdown",
   "metadata": {},
   "source": [
    "Plot targets"
   ]
  },
  {
   "cell_type": "code",
   "execution_count": null,
   "metadata": {},
   "outputs": [],
   "source": [
    "\n",
    "fig, ax = plt.subplots(figsize=(10 * 1.618, 10))\n",
    "plt.bar([3,4,5,6,7,8,9],y.value_counts().sort_index().values)\n",
    "plt.xlabel(\"Quality\")\n",
    "plt.ylabel(\"Observations\")\n",
    "plt.title(\"Classes in dataset\")\n",
    "plt.savefig(\"../Results/hist_y_train.pdf\")\n",
    "plt.show()"
   ]
  },
  {
   "cell_type": "markdown",
   "metadata": {},
   "source": [
    "Bar plot for targets in training data"
   ]
  },
  {
   "cell_type": "code",
   "execution_count": null,
   "metadata": {},
   "outputs": [],
   "source": [
    "\n",
    "fig, ax = plt.subplots(figsize=(10 * 1.618, 10))\n",
    "plt.bar([3,4,5,6,7,8,9],y_train.value_counts().sort_index().values)\n",
    "plt.xlabel(\"Quality\")\n",
    "plt.ylabel(\"Observations\")\n",
    "plt.title(\"Classes in training data\")\n",
    "plt.savefig(\"../Results/hist_y_train.pdf\")\n",
    "plt.show()"
   ]
  },
  {
   "cell_type": "code",
   "execution_count": null,
   "metadata": {},
   "outputs": [],
   "source": [
    "import seaborn as sns\n",
    "\n",
    "n_features = np.shape(df)[1]\n",
    "# Plotting correlation matrix\n",
    "fig, ax = plt.subplots(figsize=(10 * 1.618, 10))\n",
    "sns.heatmap(df.corr(), cmap=\"YlGnBu\", ax=ax, square=True, annot=True, cbar=False)\n",
    "ax.set_ylim([n_features, 0])\n",
    "ax.set_xlim([0, n_features])\n",
    "fig.tight_layout()\n",
    "plt.title(\"Corrolation matrix\")\n",
    "plt.savefig(\"../Results/corrolation_X.pdf\")"
   ]
  },
  {
   "cell_type": "markdown",
   "metadata": {},
   "source": [
    "Pre-process data"
   ]
  },
  {
   "cell_type": "code",
   "execution_count": 3,
   "metadata": {},
   "outputs": [],
   "source": [
    "# pre-process data\n",
    "scaler = sklpre.MinMaxScaler()  # alternative: StandardScaler()\n",
    "encoder = sklpre.OneHotEncoder(categories=\"auto\", sparse=False)  # onehot-encoder\n",
    "\n",
    "# Scale design matrix (no categorical)\n",
    "X_train = pd.DataFrame(\n",
    "    scaler.fit_transform(X_train.to_numpy()), columns=X_train.columns\n",
    ")  # to_numpy not needed?\n",
    "\n",
    "X_test = pd.DataFrame(\n",
    "    scaler.fit_transform(X_test.to_numpy()), columns=X_test.columns\n",
    ")  # to_numpy not needed?\n",
    "\n",
    "y_train =y_train = pd.DataFrame(\n",
    "    encoder.fit_transform(y_train.to_numpy().reshape(-1, 1)),\n",
    "    columns=encoder.categories_,\n",
    ")\n",
    "\n",
    "y_test = pd.DataFrame(\n",
    "    encoder.fit_transform(y_test.to_numpy().reshape(-1, 1)), columns=encoder.categories_\n",
    ")\n",
    "\n"
   ]
  },
  {
   "cell_type": "markdown",
   "metadata": {},
   "source": [
    "Define model for grid search"
   ]
  },
  {
   "cell_type": "code",
   "execution_count": null,
   "metadata": {},
   "outputs": [],
   "source": [
    "from keras.models import Sequential\n",
    "from keras.layers import Dense, Activation, Dropout\n",
    "\n",
    "\n",
    "def wine_model_NN(x_train, y_train, x_val, y_val, params):\n",
    "    \n",
    "    model = Sequential()\n",
    "    model.add(Dense(params['first_neuron'], input_dim=x_train.shape[1],\n",
    "                    activation=params['activation']))\n",
    "    \n",
    "    model.add(Dropout(params['dropout']))\n",
    "\n",
    "    \n",
    "    model.add(Dense(output_dim=np.shape(y_train)[1], activation=\"softmax\"))  # ouput layer\n",
    "    \n",
    "    \n",
    "    model.compile(loss=params['losses'],\n",
    "                  optimizer=params['optimizer'],\n",
    "                  metrics=['acc', talos.utils.metrics.f1score])\n",
    "    \n",
    "    history = model.fit(x_train, y_train, \n",
    "                        validation_data=[x_val, y_val],\n",
    "                        batch_size=params['batch_size'],\n",
    "                        callbacks=[talos.utils.live()],\n",
    "                        epochs=params['epochs'],\n",
    "                        verbose=0)\n",
    "\n",
    "    return history, model"
   ]
  },
  {
   "cell_type": "markdown",
   "metadata": {},
   "source": [
    "Define parameters for gridserach"
   ]
  },
  {
   "cell_type": "code",
   "execution_count": null,
   "metadata": {},
   "outputs": [],
   "source": [
    "p = {'activation':['relu'],\n",
    "     'optimizer': ['Adam'],\n",
    "     'losses': ['categorical_crossentropy'],\n",
    "     'first_neuron': [10,9,8],\n",
    "     'dropout': [.2, .3, .4],\n",
    "     'batch_size': [20, 30],\n",
    "     'epochs': [5]}"
   ]
  },
  {
   "cell_type": "markdown",
   "metadata": {},
   "source": [
    "Make scan"
   ]
  },
  {
   "cell_type": "code",
   "execution_count": null,
   "metadata": {},
   "outputs": [],
   "source": [
    "import talos\n",
    "scan_object = talos.Scan(x=X_train,\n",
    "                         y=y_train, \n",
    "                         params=p,\n",
    "                         model=wine_model_NN,\n",
    "                         experiment_name='OKOKOK')\n"
   ]
  },
  {
   "cell_type": "code",
   "execution_count": 4,
   "metadata": {},
   "outputs": [
    {
     "data": {
      "text/html": [
       "<div>\n",
       "<style scoped>\n",
       "    .dataframe tbody tr th:only-of-type {\n",
       "        vertical-align: middle;\n",
       "    }\n",
       "\n",
       "    .dataframe tbody tr th {\n",
       "        vertical-align: top;\n",
       "    }\n",
       "\n",
       "    .dataframe thead tr th {\n",
       "        text-align: left;\n",
       "    }\n",
       "</style>\n",
       "<table border=\"1\" class=\"dataframe\">\n",
       "  <thead>\n",
       "    <tr>\n",
       "      <th></th>\n",
       "      <th>3</th>\n",
       "      <th>4</th>\n",
       "      <th>5</th>\n",
       "      <th>6</th>\n",
       "      <th>7</th>\n",
       "      <th>8</th>\n",
       "      <th>9</th>\n",
       "    </tr>\n",
       "  </thead>\n",
       "  <tbody>\n",
       "    <tr>\n",
       "      <th>0</th>\n",
       "      <td>0.0</td>\n",
       "      <td>0.0</td>\n",
       "      <td>0.0</td>\n",
       "      <td>0.0</td>\n",
       "      <td>1.0</td>\n",
       "      <td>0.0</td>\n",
       "      <td>0.0</td>\n",
       "    </tr>\n",
       "    <tr>\n",
       "      <th>1</th>\n",
       "      <td>0.0</td>\n",
       "      <td>0.0</td>\n",
       "      <td>0.0</td>\n",
       "      <td>0.0</td>\n",
       "      <td>0.0</td>\n",
       "      <td>1.0</td>\n",
       "      <td>0.0</td>\n",
       "    </tr>\n",
       "    <tr>\n",
       "      <th>2</th>\n",
       "      <td>0.0</td>\n",
       "      <td>0.0</td>\n",
       "      <td>0.0</td>\n",
       "      <td>0.0</td>\n",
       "      <td>1.0</td>\n",
       "      <td>0.0</td>\n",
       "      <td>0.0</td>\n",
       "    </tr>\n",
       "    <tr>\n",
       "      <th>3</th>\n",
       "      <td>0.0</td>\n",
       "      <td>0.0</td>\n",
       "      <td>0.0</td>\n",
       "      <td>1.0</td>\n",
       "      <td>0.0</td>\n",
       "      <td>0.0</td>\n",
       "      <td>0.0</td>\n",
       "    </tr>\n",
       "    <tr>\n",
       "      <th>4</th>\n",
       "      <td>0.0</td>\n",
       "      <td>0.0</td>\n",
       "      <td>0.0</td>\n",
       "      <td>0.0</td>\n",
       "      <td>1.0</td>\n",
       "      <td>0.0</td>\n",
       "      <td>0.0</td>\n",
       "    </tr>\n",
       "    <tr>\n",
       "      <th>...</th>\n",
       "      <td>...</td>\n",
       "      <td>...</td>\n",
       "      <td>...</td>\n",
       "      <td>...</td>\n",
       "      <td>...</td>\n",
       "      <td>...</td>\n",
       "      <td>...</td>\n",
       "    </tr>\n",
       "    <tr>\n",
       "      <th>1612</th>\n",
       "      <td>0.0</td>\n",
       "      <td>0.0</td>\n",
       "      <td>1.0</td>\n",
       "      <td>0.0</td>\n",
       "      <td>0.0</td>\n",
       "      <td>0.0</td>\n",
       "      <td>0.0</td>\n",
       "    </tr>\n",
       "    <tr>\n",
       "      <th>1613</th>\n",
       "      <td>0.0</td>\n",
       "      <td>0.0</td>\n",
       "      <td>1.0</td>\n",
       "      <td>0.0</td>\n",
       "      <td>0.0</td>\n",
       "      <td>0.0</td>\n",
       "      <td>0.0</td>\n",
       "    </tr>\n",
       "    <tr>\n",
       "      <th>1614</th>\n",
       "      <td>0.0</td>\n",
       "      <td>0.0</td>\n",
       "      <td>0.0</td>\n",
       "      <td>1.0</td>\n",
       "      <td>0.0</td>\n",
       "      <td>0.0</td>\n",
       "      <td>0.0</td>\n",
       "    </tr>\n",
       "    <tr>\n",
       "      <th>1615</th>\n",
       "      <td>0.0</td>\n",
       "      <td>0.0</td>\n",
       "      <td>1.0</td>\n",
       "      <td>0.0</td>\n",
       "      <td>0.0</td>\n",
       "      <td>0.0</td>\n",
       "      <td>0.0</td>\n",
       "    </tr>\n",
       "    <tr>\n",
       "      <th>1616</th>\n",
       "      <td>0.0</td>\n",
       "      <td>0.0</td>\n",
       "      <td>1.0</td>\n",
       "      <td>0.0</td>\n",
       "      <td>0.0</td>\n",
       "      <td>0.0</td>\n",
       "      <td>0.0</td>\n",
       "    </tr>\n",
       "  </tbody>\n",
       "</table>\n",
       "<p>1617 rows × 7 columns</p>\n",
       "</div>"
      ],
      "text/plain": [
       "        3    4    5    6    7    8    9\n",
       "0     0.0  0.0  0.0  0.0  1.0  0.0  0.0\n",
       "1     0.0  0.0  0.0  0.0  0.0  1.0  0.0\n",
       "2     0.0  0.0  0.0  0.0  1.0  0.0  0.0\n",
       "3     0.0  0.0  0.0  1.0  0.0  0.0  0.0\n",
       "4     0.0  0.0  0.0  0.0  1.0  0.0  0.0\n",
       "...   ...  ...  ...  ...  ...  ...  ...\n",
       "1612  0.0  0.0  1.0  0.0  0.0  0.0  0.0\n",
       "1613  0.0  0.0  1.0  0.0  0.0  0.0  0.0\n",
       "1614  0.0  0.0  0.0  1.0  0.0  0.0  0.0\n",
       "1615  0.0  0.0  1.0  0.0  0.0  0.0  0.0\n",
       "1616  0.0  0.0  1.0  0.0  0.0  0.0  0.0\n",
       "\n",
       "[1617 rows x 7 columns]"
      ]
     },
     "execution_count": 4,
     "metadata": {},
     "output_type": "execute_result"
    }
   ],
   "source": [
    "y_test"
   ]
  },
  {
   "cell_type": "code",
   "execution_count": null,
   "metadata": {},
   "outputs": [],
   "source": []
  },
  {
   "cell_type": "code",
   "execution_count": null,
   "metadata": {},
   "outputs": [],
   "source": [
    "def create_model(\n",
    "    nl1=0,\n",
    "    nl2=1,\n",
    "    nl3=0,\n",
    "    nn1=12,\n",
    "    nn2=11,\n",
    "    nn3=10,\n",
    "    lr=0.01,\n",
    "    decay=0.0,\n",
    "    l1=0.01,\n",
    "    l2=0.01,\n",
    "    act=\"relu\",\n",
    "    dropout=0,\n",
    "    input_shape=11,\n",
    "    output_shape=7, #synes jo ikke på putput!\n",
    "):\n",
    "    # set optimizer\n",
    "    opt = keras.optimizers.Adam(lr=lr, beta_1=0.9, beta_2=0.999, decay=decay) #decay?\n",
    "    # set regularizers\n",
    "    reg = keras.regularizers.l1_l2(l1=l1, l2=l2)\n",
    "\n",
    "    model = Sequential()\n",
    "    model.add(\n",
    "        Dense(nn1, input_dim=input_shape, activation=act, kernel_regularizer=reg) #dropout her?\n",
    "    )  # first layer\n",
    "    if dropout != 0:\n",
    "        model.add(Dropout(dropout))\n",
    "    for i in range(nl1):  # add up to nl1 layers with nn1 nodes\n",
    "        model.add(Dense(nn1, activation=act, kernel_regularizer=reg))\n",
    "        if dropout != 0:\n",
    "            model.add(Dropout(dropout)) #hva er egentlig dropout? Hvor lav terskel for å fjerne nevroner?\n",
    "\n",
    "    for i in range(nl2):  # add up to nl2 layers with nn2 nodes\n",
    "        model.add(Dense(nn2, activation=act, kernel_regularizer=reg))\n",
    "        if dropout != 0:\n",
    "            model.add(Dropout(dropout))\n",
    "\n",
    "    for i in range(nl3):  # add up to nl3 layers with nn3 nodes\n",
    "        model.add(Dense(nn3, activation=act, kernel_regularizer=reg))\n",
    "        if dropout != 0:\n",
    "            model.add(Dropout(dropout)) #dropout her?\n",
    "    model.add(Dense(output_shape, activation=\"softmax\"))  # ouput layer\n",
    "    if dropout != 0:\n",
    "        model.add(Dropout(dropout))\n",
    "    model.compile(loss=\"categorical_crossentropy\", optimizer=opt, metrics=[\"accuracy\"])\n",
    "    \"\"\"remember to change metric.\n",
    "    What is the function of metrics in compile, other than being metric for ex randomizedsearch if no metric is specified?\n",
    "    dropout on first and last layer?\n",
    "    \"\"\"\n",
    "    return model\n"
   ]
  },
  {
   "cell_type": "code",
   "execution_count": null,
   "metadata": {},
   "outputs": [],
   "source": [
    "import keras\n",
    "from keras.wrappers.scikit_learn import KerasClassifier\n",
    "\n",
    "model = KerasClassifier(build_fn=create_model, epochs=10, batch_size=10, verbose=1)\n",
    "\n",
    "model.fit(X_train.values, y_train.values)\n",
    "ypred=model.predict_proba(X_train.values, verbose=1) \n",
    "print(ypred)\n",
    "print(y_train)\n",
    "print(np.shape(ypred),np.shape(y_train))"
   ]
  },
  {
   "cell_type": "markdown",
   "metadata": {},
   "source": []
  },
  {
   "cell_type": "code",
   "execution_count": 5,
   "metadata": {},
   "outputs": [],
   "source": [
    "# learning rate\n",
    "lr = [1e-2, 1e-3]  # , 1e-4]\n",
    "# deacy ???\n",
    "decay = [1e-6, 1e-9]  # ,0]\n",
    "\n",
    "# activation\n",
    "activation = [\"relu\", \"sigmoid\"]\n",
    "\n",
    "# numbers of layers\n",
    "nl1 = [0, 1]  # ,2]\n",
    "nl2 = [0, 1]  # ,2]\n",
    "nl3 = [0]  # ,1]#,2]\n",
    "\n",
    "# neurons in each layer\n",
    "nn1 = [12]  # ,8]#,20]\n",
    "nn2 = [11]  # ,8]#,14]\n",
    "nn3 = [10, 6]  # ,9]\n",
    "\n",
    "# dropout and regularisation\n",
    "dropout = [0, 0.1, 0.2, 0.3]\n",
    "l1 = [0, 0.01, 0.003, 0.001, 0.0001]\n",
    "l2 = [0, 0.01, 0.003, 0.001, 0.0001]\n",
    "\n",
    "dropout = [0.1, 0.2]\n",
    "l1 = [0]  # ,0.1]\n",
    "l2 = [0]  # ,0.1]\n",
    "# dictionary summary\n",
    "\n",
    "epochs=[2,3]\n",
    "\n",
    "param_grid = dict(\n",
    "    nl1=nl1,\n",
    "    nl2=nl2,\n",
    "    nl3=nl3,\n",
    "    nn1=nn1,\n",
    "    nn2=nn2,\n",
    "    nn3=nn3,\n",
    "    act=activation,\n",
    "    l1=l1,\n",
    "    l2=l2,\n",
    "    lr=lr,\n",
    "    decay=decay,\n",
    "    dropout=dropout,\n",
    "    epochs=epochs\n",
    ")\n",
    "\n"
   ]
  },
  {
   "cell_type": "code",
   "execution_count": null,
   "metadata": {},
   "outputs": [],
   "source": []
  },
  {
   "cell_type": "code",
   "execution_count": null,
   "metadata": {},
   "outputs": [],
   "source": [
    "grid = sklms.RandomizedSearchCV(\n",
    "    estimator=model,\n",
    "    cv=sklms.KFold(3),\n",
    "    param_distributions=param_grid,\n",
    "    verbose=1,\n",
    "    n_iter=10,\n",
    "    n_jobs=-1,\n",
    "    scoring=\"f1_weighted\"\n",
    ")  # scoring='f1_weighted') - default uses estimator scoring\n",
    "grid_result = grid.fit(X_train.values, np.argmax(y_train.values,axis=1))\n",
    "cv_results_df = pd.DataFrame(grid_result.cv_results_)\n",
    "cv_results_df.to_csv(\"gridsearch.csv\")\n",
    "\n",
    "best_params = grid_result.best_params_\n",
    "best_model = grid_result.best_estimator_\n",
    "\n",
    "print(\"Best fit params:\", best_params)"
   ]
  },
  {
   "cell_type": "code",
   "execution_count": null,
   "metadata": {},
   "outputs": [],
   "source": [
    "ypred=best_model.predict(X_test)"
   ]
  },
  {
   "cell_type": "code",
   "execution_count": null,
   "metadata": {},
   "outputs": [],
   "source": [
    "grid_result.best_score_"
   ]
  },
  {
   "cell_type": "code",
   "execution_count": null,
   "metadata": {},
   "outputs": [],
   "source": [
    "import sklearn.metrics as sklmet"
   ]
  },
  {
   "cell_type": "code",
   "execution_count": null,
   "metadata": {},
   "outputs": [],
   "source": [
    "y_test"
   ]
  },
  {
   "cell_type": "code",
   "execution_count": null,
   "metadata": {},
   "outputs": [],
   "source": [
    "y_test=np.argmax(y_test.values,axis=1)"
   ]
  },
  {
   "cell_type": "code",
   "execution_count": null,
   "metadata": {},
   "outputs": [],
   "source": [
    "sklmet.f1_score(y_test,ypred,average='weighted')"
   ]
  },
  {
   "cell_type": "code",
   "execution_count": null,
   "metadata": {},
   "outputs": [],
   "source": []
  }
 ],
 "metadata": {
  "kernelspec": {
   "display_name": "Python 3",
   "language": "python",
   "name": "python3"
  },
  "language_info": {
   "codemirror_mode": {
    "name": "ipython",
    "version": 3
   },
   "file_extension": ".py",
   "mimetype": "text/x-python",
   "name": "python",
   "nbconvert_exporter": "python",
   "pygments_lexer": "ipython3",
   "version": "3.7.5"
  }
 },
 "nbformat": 4,
 "nbformat_minor": 4
}
