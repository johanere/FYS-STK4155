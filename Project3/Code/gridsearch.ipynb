{
 "cells": [
  {
   "cell_type": "code",
   "execution_count": null,
   "metadata": {},
   "outputs": [],
   "source": []
  },
  {
   "cell_type": "code",
   "execution_count": 2,
   "metadata": {},
   "outputs": [
    {
     "ename": "ModuleNotFoundError",
     "evalue": "No module named 'keras_pandas'",
     "output_type": "error",
     "traceback": [
      "\u001b[0;31m---------------------------------------------------------------------------\u001b[0m",
      "\u001b[0;31mModuleNotFoundError\u001b[0m                       Traceback (most recent call last)",
      "\u001b[0;32m<ipython-input-2-7a62947f432a>\u001b[0m in \u001b[0;36m<module>\u001b[0;34m\u001b[0m\n\u001b[1;32m     13\u001b[0m \u001b[0;32mimport\u001b[0m \u001b[0mkeras\u001b[0m\u001b[0;34m\u001b[0m\u001b[0;34m\u001b[0m\u001b[0m\n\u001b[1;32m     14\u001b[0m \u001b[0;34m\u001b[0m\u001b[0m\n\u001b[0;32m---> 15\u001b[0;31m \u001b[0;32mfrom\u001b[0m \u001b[0mkeras_pandas\u001b[0m\u001b[0;34m.\u001b[0m\u001b[0mAutomater\u001b[0m \u001b[0;32mimport\u001b[0m \u001b[0mAutomater\u001b[0m\u001b[0;34m\u001b[0m\u001b[0;34m\u001b[0m\u001b[0m\n\u001b[0m",
      "\u001b[0;31mModuleNotFoundError\u001b[0m: No module named 'keras_pandas'"
     ]
    }
   ],
   "source": [
    "import pandas as pd\n",
    "import sklearn.preprocessing as sklpre\n",
    "import sklearn.model_selection as sklms\n",
    "import sklearn.metrics as sklmet\n",
    "import matplotlib.pyplot as plt\n",
    "import numpy as np\n",
    "\n",
    "\n",
    "from keras.wrappers.scikit_learn import KerasClassifier\n",
    "from keras.models import Sequential\n",
    "from keras.layers import Dense, Activation, Dropout\n",
    "\n",
    "import keras \n",
    "\n",
    "from keras_pandas.Automater import Automater"
   ]
  },
  {
   "cell_type": "code",
   "execution_count": null,
   "metadata": {},
   "outputs": [],
   "source": [
    "# load data\n",
    "\n",
    "np.random.seed(3) \n",
    "\n",
    "df = pd.read_csv(\"winequality-white.csv\", sep=\";\")\n",
    "X = df.drop(\"quality\", axis=1)\n",
    "y = df[\"quality\"]\n",
    "\n",
    "# stratified split\n",
    "X_train, X_test, y_train, y_test = sklms.train_test_split(\n",
    "    X, y, stratify=y, test_size=0.33\n",
    ")\n",
    "print(y_train)"
   ]
  },
  {
   "cell_type": "code",
   "execution_count": null,
   "metadata": {},
   "outputs": [],
   "source": [
    "RES=y_test.to_numpy().reshape(-1,1)"
   ]
  },
  {
   "cell_type": "code",
   "execution_count": null,
   "metadata": {},
   "outputs": [],
   "source": [
    "res\n"
   ]
  },
  {
   "cell_type": "code",
   "execution_count": null,
   "metadata": {},
   "outputs": [],
   "source": [
    "y_train = keras.utils.to_categorical(np.random.randint(10, size=(1000, 1)), num_classes=10)"
   ]
  },
  {
   "cell_type": "code",
   "execution_count": null,
   "metadata": {},
   "outputs": [],
   "source": [
    "RR = keras.utils.to_categorical(RES, num_classes=7)"
   ]
  },
  {
   "cell_type": "code",
   "execution_count": null,
   "metadata": {},
   "outputs": [],
   "source": [
    "y_train[:3]"
   ]
  },
  {
   "cell_type": "code",
   "execution_count": null,
   "metadata": {},
   "outputs": [],
   "source": [
    "y_train=keras.utils.to_categorical(rr, num_classes=7, dtype='float32')"
   ]
  },
  {
   "cell_type": "code",
   "execution_count": null,
   "metadata": {},
   "outputs": [],
   "source": []
  },
  {
   "cell_type": "code",
   "execution_count": null,
   "metadata": {},
   "outputs": [],
   "source": [
    "X_bb = pd.DataFrame(\n",
    "  y_train, columns=y_df.columns\n",
    ")  # to_numpy not needed?\n"
   ]
  },
  {
   "cell_type": "code",
   "execution_count": null,
   "metadata": {},
   "outputs": [],
   "source": [
    "X_bb"
   ]
  },
  {
   "cell_type": "code",
   "execution_count": null,
   "metadata": {},
   "outputs": [],
   "source": [
    "X_df"
   ]
  },
  {
   "cell_type": "code",
   "execution_count": null,
   "metadata": {},
   "outputs": [],
   "source": [
    "# pre-process data\n",
    "scaler = sklpre.MinMaxScaler()  # alternative: StandardScaler()\n",
    "encoder = sklpre.OneHotEncoder(categories=\"auto\", sparse=False)  # onehot-encoder\n",
    "\n",
    "# Scale design matrix (no categorical)\n",
    "X_train= scaler.fit_transform(X_train)\n",
    "X_test= scaler.fit_transform(X_test)\n",
    "# one-hot encode y\n",
    "y_train=encoder.fit_transform(y_train.reshape(-1, 1))\n",
    "y_test=encoder.fit_transform(y_train.reshape(-1, 1))\n",
    "#flatten y for skl\n",
    "y_train= np.argmax(y_train,axis=1)\n",
    "y_test= np.argmax(y_test,axis=1)"
   ]
  },
  {
   "cell_type": "code",
   "execution_count": null,
   "metadata": {},
   "outputs": [],
   "source": [
    "\n",
    "y_train[800:900]"
   ]
  },
  {
   "cell_type": "code",
   "execution_count": null,
   "metadata": {},
   "outputs": [],
   "source": []
  },
  {
   "cell_type": "code",
   "execution_count": null,
   "metadata": {},
   "outputs": [],
   "source": []
  },
  {
   "cell_type": "code",
   "execution_count": null,
   "metadata": {},
   "outputs": [],
   "source": [
    "def create_model(\n",
    "    nl1=0,\n",
    "    nl2=1,\n",
    "    nl3=0,\n",
    "    nn1=12,\n",
    "    nn2=11,\n",
    "    nn3=10,\n",
    "    lr=0.01,\n",
    "    decay=0.0,\n",
    "    l1=0.01,\n",
    "    l2=0.01,\n",
    "    act=\"relu\",\n",
    "    dropout=0,\n",
    "    input_shape=11,\n",
    "    output_shape=7, #synes jo ikke på putput!\n",
    "):\n",
    "    # set optimizer\n",
    "    opt = keras.optimizers.Adam(lr=lr, beta_1=0.9, beta_2=0.999, decay=decay) #decay?\n",
    "    # set regularizers\n",
    "    reg = keras.regularizers.l1_l2(l1=l1, l2=l2)\n",
    "\n",
    "    model = keras.Sequential()\n",
    "    model.add(\n",
    "        Dense(nn1, input_dim=input_shape, activation=act, kernel_regularizer=reg) #dropout her?\n",
    "    )  # first layer\n",
    "    if dropout != 0:\n",
    "        model.add(Dropout(dropout))\n",
    "    for i in range(nl1):  # add up to nl1 layers with nn1 nodes\n",
    "        model.add(Dense(nn1, activation=act, kernel_regularizer=reg))\n",
    "        if dropout != 0:\n",
    "            model.add(Dropout(dropout)) #hva er egentlig dropout? Hvor lav terskel for å fjerne nevroner?\n",
    "\n",
    "    for i in range(nl2):  # add up to nl2 layers with nn2 nodes\n",
    "        model.add(Dense(nn2, activation=act, kernel_regularizer=reg))\n",
    "        if dropout != 0:\n",
    "            model.add(Dropout(dropout))\n",
    "\n",
    "    for i in range(nl3):  # add up to nl3 layers with nn3 nodes\n",
    "        model.add(Dense(nn3, activation=act, kernel_regularizer=reg))\n",
    "        if dropout != 0:\n",
    "            model.add(Dropout(dropout)) #dropout her?\n",
    "    model.add(Dense(output_shape, activation=\"softmax\"))  # ouput layer\n",
    "    if dropout != 0:\n",
    "        model.add(Dropout(dropout))\n",
    "    model.compile(loss=\"categorical_crossentropy\", optimizer=opt, metrics=[\"accuracy\"])\n",
    "    \"\"\"remember to change metric.\n",
    "    What is the function of metrics in compile, other than being metric for ex randomizedsearch if no metric is specified?\n",
    "    dropout on first and last layer?\n",
    "    \"\"\"\n",
    "    return model\n"
   ]
  },
  {
   "cell_type": "code",
   "execution_count": null,
   "metadata": {},
   "outputs": [],
   "source": []
  },
  {
   "cell_type": "code",
   "execution_count": null,
   "metadata": {},
   "outputs": [],
   "source": [
    "# learning rate\n",
    "lr = [1e-2, 1e-3]  # , 1e-4]\n",
    "# deacy ???\n",
    "decay = [1e-6, 1e-9]  # ,0]\n",
    "\n",
    "# activation\n",
    "activation = [\"relu\", \"sigmoid\"]\n",
    "\n",
    "# numbers of layers\n",
    "nl1 = [0, 1]  # ,2]\n",
    "nl2 = [0, 1]  # ,2]\n",
    "nl3 = [0]  # ,1]#,2]\n",
    "\n",
    "# neurons in each layer\n",
    "nn1 = [12]  # ,8]#,20]\n",
    "nn2 = [11]  # ,8]#,14]\n",
    "nn3 = [10, 6]  # ,9]\n",
    "\n",
    "# dropout and regularisation\n",
    "dropout = [0, 0.1, 0.2, 0.3]\n",
    "l1 = [0, 0.01, 0.003, 0.001, 0.0001]\n",
    "l2 = [0, 0.01, 0.003, 0.001, 0.0001]\n",
    "\n",
    "dropout = [0.1, 0.2]\n",
    "l1 = [0]  # ,0.1]\n",
    "l2 = [0]  # ,0.1]\n",
    "# dictionary summary\n",
    "\n",
    "epochs=[2,3]\n",
    "\n",
    "param_grid = dict(\n",
    "    nl1=nl1,\n",
    "    nl2=nl2,\n",
    "    nl3=nl3,\n",
    "    nn1=nn1,\n",
    "    nn2=nn2,\n",
    "    nn3=nn3,\n",
    "    act=activation,\n",
    "    l1=l1,\n",
    "    l2=l2,\n",
    "    lr=lr,\n",
    "    decay=decay,\n",
    "    dropout=dropout,\n",
    "    epochs=epochs\n",
    ")\n",
    "\n"
   ]
  },
  {
   "cell_type": "code",
   "execution_count": null,
   "metadata": {},
   "outputs": [],
   "source": []
  },
  {
   "cell_type": "code",
   "execution_count": null,
   "metadata": {},
   "outputs": [],
   "source": [
    "\"\"\"\n",
    "#test shapes\n",
    "model = KerasClassifier(build_fn=create_model, epochs=10, batch_size=10, verbose=1)\n",
    "model.fit(X_train_scaled, y_train_onehot_flat)\n",
    "ypred=model.predict(X_train_scaled, verbose=1) \n",
    "\"\"\""
   ]
  },
  {
   "cell_type": "code",
   "execution_count": null,
   "metadata": {},
   "outputs": [],
   "source": []
  },
  {
   "cell_type": "code",
   "execution_count": null,
   "metadata": {},
   "outputs": [],
   "source": [
    "grid = sklms.RandomizedSearchCV(\n",
    "    estimator=model,\n",
    "    cv=sklms.KFold(3),\n",
    "    param_distributions=param_grid,\n",
    "    verbose=1,\n",
    "    n_iter=10,\n",
    "    n_jobs=-1,\n",
    "    scoring=\"f1_weighted\"\n",
    ") \n",
    "grid_result = grid.fit(X_train_scaled, y_train_onehot_flat)\n",
    "cv_results_df = pd.DataFrame(grid_result.cv_results_)\n",
    "cv_results_df.to_csv(\"gridsearch.csv\")\n",
    "\n",
    "best_params = grid_result.best_params_\n",
    "best_model = grid_result.best_estimator_\n",
    "\n",
    "print(\"Best fit params:\", best_params)"
   ]
  },
  {
   "cell_type": "code",
   "execution_count": null,
   "metadata": {},
   "outputs": [],
   "source": []
  },
  {
   "cell_type": "code",
   "execution_count": null,
   "metadata": {},
   "outputs": [],
   "source": [
    "y_pred=best_model.predict(X_train_scaled)"
   ]
  },
  {
   "cell_type": "code",
   "execution_count": null,
   "metadata": {},
   "outputs": [],
   "source": []
  },
  {
   "cell_type": "code",
   "execution_count": null,
   "metadata": {},
   "outputs": [],
   "source": [
    "sklmet.f1_score(y_train_onehot_flat,y_pred,average='weighted')"
   ]
  },
  {
   "cell_type": "code",
   "execution_count": null,
   "metadata": {},
   "outputs": [],
   "source": [
    "grid_result.best_score_"
   ]
  },
  {
   "cell_type": "code",
   "execution_count": null,
   "metadata": {},
   "outputs": [],
   "source": []
  }
 ],
 "metadata": {
  "kernelspec": {
   "display_name": "Python 3",
   "language": "python",
   "name": "python3"
  },
  "language_info": {
   "codemirror_mode": {
    "name": "ipython",
    "version": 3
   },
   "file_extension": ".py",
   "mimetype": "text/x-python",
   "name": "python",
   "nbconvert_exporter": "python",
   "pygments_lexer": "ipython3",
   "version": "3.7.5"
  }
 },
 "nbformat": 4,
 "nbformat_minor": 4
}
